{
  "cells": [
    {
      "cell_type": "code",
      "execution_count": null,
      "metadata": {
        "id": "szkTuC2E01ij"
      },
      "outputs": [],
      "source": [
        "import requests\n",
        "import pandas as pd\n",
        "\n",
        "headers = {\n",
        "    'sec-ch-ua': '\"Not.A/Brand\";v=\"8\", \"Chromium\";v=\"114\", \"Google Chrome\";v=\"114\"',\n",
        "    'sec-ch-ua-platform': '\"Windows\"',\n",
        "    'Referer': 'https://www.ebooks.com/en-ng/subjects/computers/?pageNumber=3',\n",
        "    'sec-ch-ua-mobile': '?0',\n",
        "    'User-Agent': 'Mozilla/5.0 (Windows NT 10.0; Win64; x64) AppleWebKit/537.36 (KHTML, like Gecko) Chrome/114.0.0.0 Safari/537.36',\n",
        "    'Content-Type': 'application/json',\n",
        "}\n",
        "\n",
        "params = {\n",
        "    'pageNumber': '3',\n",
        "    'CountryCode': 'NG',\n",
        "    'subjectId': '13',\n",
        "}\n",
        "\n",
        "response = requests.get('https://www.ebooks.com/api/search/subject/', params=params, headers=headers)"
      ]
    },
    {
      "cell_type": "code",
      "execution_count": null,
      "metadata": {
        "colab": {
          "base_uri": "https://localhost:8080/"
        },
        "id": "0qFWtgHqgRcg",
        "outputId": "1cd358ee-2623-4047-d03d-f0ea865faaa5"
      },
      "outputs": [
        {
          "data": {
            "text/plain": [
              "<Response [200]>"
            ]
          },
          "execution_count": 11,
          "metadata": {},
          "output_type": "execute_result"
        }
      ],
      "source": [
        "response"
      ]
    },
    {
      "cell_type": "code",
      "execution_count": null,
      "metadata": {
        "id": "nCnTpgPR1kxD"
      },
      "outputs": [],
      "source": [
        "response.json()"
      ]
    },
    {
      "cell_type": "code",
      "execution_count": null,
      "metadata": {
        "colab": {
          "base_uri": "https://localhost:8080/"
        },
        "id": "23G8OR3Mg4Kn",
        "outputId": "e5eff1f4-0fad-4257-f56d-e7f7b997c19a"
      },
      "outputs": [
        {
          "data": {
            "text/plain": [
              "dict_keys(['search_term', 'start_record', 'total_results', 'books', 'pages', 'previous_page', 'next_page'])"
            ]
          },
          "execution_count": 14,
          "metadata": {},
          "output_type": "execute_result"
        }
      ],
      "source": [
        "response.json().keys()"
      ]
    },
    {
      "cell_type": "code",
      "execution_count": null,
      "metadata": {
        "id": "fpfKA7F3ir10"
      },
      "outputs": [],
      "source": [
        "response.json()['books']"
      ]
    },
    {
      "cell_type": "code",
      "execution_count": null,
      "metadata": {
        "colab": {
          "base_uri": "https://localhost:8080/"
        },
        "id": "0g52qvlHofBF",
        "outputId": "650879ba-1e92-4888-de2e-f7754ae66923"
      },
      "outputs": [
        {
          "data": {
            "text/plain": [
              "10"
            ]
          },
          "execution_count": 19,
          "metadata": {},
          "output_type": "execute_result"
        }
      ],
      "source": [
        "new_res = response.json()['books']\n",
        "len(new_res)"
      ]
    },
    {
      "cell_type": "code",
      "execution_count": null,
      "metadata": {
        "id": "5YVCbSbkkEcC"
      },
      "outputs": [],
      "source": [
        "title = []\n",
        "subtitle = []\n",
        "author = []\n",
        "publisher = []\n",
        "publication_year = []\n",
        "price = []\n",
        "\n",
        "for result in new_res:\n",
        "    title.append(result['title'])\n",
        "    subtitle.append(result['subtitle'])\n",
        "    author.append(result['authors'][0]['name'])\n",
        "    publisher.append(result['publisher'])\n",
        "    publication_year.append(result['publication_year'])\n",
        "    price.append(result['price'])\n"
      ]
    },
    {
      "cell_type": "code",
      "execution_count": null,
      "metadata": {
        "colab": {
          "base_uri": "https://localhost:8080/"
        },
        "id": "1o5-m1cWpIAK",
        "outputId": "837e3a94-5bd8-4224-c74e-164f7b80b6cc"
      },
      "outputs": [
        {
          "data": {
            "text/plain": [
              "['Mark Richards',\n",
              " 'Jeff Patton',\n",
              " 'Liz Rice',\n",
              " 'John Whitington',\n",
              " 'Harshul Patel',\n",
              " 'Ole Olesen-Bagneux',\n",
              " 'Julien Pivotto',\n",
              " 'David Flanagan',\n",
              " 'Neal Ford',\n",
              " 'Eric Freeman']"
            ]
          },
          "execution_count": 25,
          "metadata": {},
          "output_type": "execute_result"
        }
      ],
      "source": [
        "author"
      ]
    },
    {
      "cell_type": "code",
      "execution_count": null,
      "metadata": {
        "id": "kghQifWRpeIZ"
      },
      "outputs": [],
      "source": []
    },
    {
      "cell_type": "code",
      "execution_count": null,
      "metadata": {
        "id": "0MwCM7fypdve"
      },
      "outputs": [],
      "source": [
        "books_df = pd.DataFrame({'Title':title, 'Subtitle':subtitle, 'Author':author, 'Publisher':publisher, 'Publication Year': publication_year, 'Price':price})"
      ]
    },
    {
      "cell_type": "code",
      "execution_count": null,
      "metadata": {
        "id": "7EjFOhWVpg_S"
      },
      "outputs": [],
      "source": [
        "books_df"
      ]
    },
    {
      "cell_type": "code",
      "execution_count": null,
      "metadata": {
        "colab": {
          "background_save": true
        },
        "id": "kJUn_EfNpv0J"
      },
      "outputs": [],
      "source": [
        "books_df.to_excel('books victor.xlsx', index=False)"
      ]
    }
  ],
  "metadata": {
    "colab": {
      "provenance": []
    },
    "kernelspec": {
      "display_name": "Python 3",
      "name": "python3"
    },
    "language_info": {
      "name": "python"
    }
  },
  "nbformat": 4,
  "nbformat_minor": 0
}