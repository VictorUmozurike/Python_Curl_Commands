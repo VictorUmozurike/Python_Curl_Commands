{
  "nbformat": 4,
  "nbformat_minor": 0,
  "metadata": {
    "colab": {
      "provenance": []
    },
    "kernelspec": {
      "name": "python3",
      "display_name": "Python 3"
    },
    "language_info": {
      "name": "python"
    }
  },
  "cells": [
    {
      "cell_type": "code",
      "execution_count": null,
      "metadata": {
        "id": "3O57ijAxRjMy"
      },
      "outputs": [],
      "source": [
        "import requests\n",
        "import pandas as pd"
      ]
    },
    {
      "cell_type": "code",
      "source": [
        "from bs4 import BeautifulSoup\n",
        "url = \"https://www.truecar.com/used-cars-for-sale/listings/location-new-york-ny/\"\n",
        "response = requests.get(url)\n",
        "if response.status_code == 200:\n",
        "  soup = BeautifulSoup(response.content, \"html.parser\")\n",
        "  car_titles = soup.find_all(\"div\",{\"data-test\":\"vehicleListingCardTitle\"})\n",
        "  prices = soup.find_all(\"span\",{\"data-test\":\"vehicleListingPriceAmount\"})\n",
        "  mileage = soup.find_all(\"div\",{\"data-test\":\"vehicleMileage\"})\n",
        "  vin = soup.find_all(\"div\",{\"class\":\"vehicle-card-vin-carousel mt-1 text-xs\"})\n",
        "  name_of_car = []\n",
        "  price_of_car = []\n",
        "  car_mileage = []\n",
        "  car_vin = []\n",
        "  for price in prices:\n",
        "    price_of_car.append(price.text.strip())\n",
        "  for title in car_titles:\n",
        "    name_of_car.append(title.text.strip())\n",
        "  for mile in mileage:\n",
        "    car_mileage.append(mile.text.strip())\n",
        "  for VIN in vin:\n",
        "    car_vin.append(VIN.text.strip())\n",
        "    x = [s.replace('VIN', '') for s in car_vin]\n",
        "    car_vin = x\n",
        "\n",
        "\n",
        "else:\n",
        "    print(\"Failed to retrieve the page. Status code:\", response.status_code)"
      ],
      "metadata": {
        "id": "MHjyD6WDTnoT"
      },
      "execution_count": null,
      "outputs": []
    },
    {
      "cell_type": "code",
      "source": [
        "name_of_car"
      ],
      "metadata": {
        "id": "tooSvkZi0wRQ"
      },
      "execution_count": null,
      "outputs": []
    },
    {
      "cell_type": "code",
      "source": [
        "car_details = pd.DataFrame({'Car Title': name_of_car, 'Price':price_of_car})"
      ],
      "metadata": {
        "id": "C1viDceI0mG3"
      },
      "execution_count": null,
      "outputs": []
    },
    {
      "cell_type": "code",
      "source": [
        "car_details"
      ],
      "metadata": {
        "id": "tiAZ9MT814Of"
      },
      "execution_count": null,
      "outputs": []
    },
    {
      "cell_type": "code",
      "source": [
        "car_details.to_excel('Car Ad Details.xlsx', index=False)"
      ],
      "metadata": {
        "id": "frXBoFts2CsR"
      },
      "execution_count": null,
      "outputs": []
    },
    {
      "cell_type": "code",
      "source": [
        "from bs4 import BeautifulSoup\n",
        "url = \"https://www.ebooks.com/en-ng/subjects/business-education-ebooks/489/?pageNumber=2\"\n",
        "response = requests.get(url)\n",
        "if response.status_code == 200:\n",
        "  soup = BeautifulSoup(response.content, \"html.parser\")\n",
        "  book_names = soup.find_all(\"h2\",{\"class\":\"title\"})\n",
        "  author = soup.find_all(\"span\",{\"class\":\"author\"})\n",
        "  authors = []\n",
        "  book_titles = []\n",
        "  for writer in author:\n",
        "    authors.append(writer.text.strip())\n",
        "  for title in book_names:\n",
        "    book_titles.append(title.text.strip())"
      ],
      "metadata": {
        "id": "yiF-qTLpXSN_"
      },
      "execution_count": null,
      "outputs": []
    },
    {
      "cell_type": "code",
      "source": [],
      "metadata": {
        "id": "QgMzTwwEZAOD"
      },
      "execution_count": null,
      "outputs": []
    }
  ]
}