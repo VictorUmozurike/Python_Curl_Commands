{
  "nbformat": 4,
  "nbformat_minor": 0,
  "metadata": {
    "colab": {
      "provenance": []
    },
    "kernelspec": {
      "name": "python3",
      "display_name": "Python 3"
    },
    "language_info": {
      "name": "python"
    }
  },
  "cells": [
    {
      "cell_type": "code",
      "execution_count": null,
      "metadata": {
        "id": "HV9tyKWe1rx9"
      },
      "outputs": [],
      "source": [
        "cookies = {\n",
        "    'ec': 'eyJlZGdlVXNlckFnZW50IjoiTW96aWxsYS81LjAgKFdpbmRvd3MgTlQgMTAuMDsgV2luNjQ7IHg2NCkgQXBwbGVXZWJLaXQvNTM3LjM2IChLSFRNTCwgbGlrZSBHZWNrbykgQ2hyb21lLzExNC4wLjAuMCBTYWZhcmkvNTM3LjM2In0=',\n",
        "    'client_guid_timestamp': 'a39828c2-68fc-492e-ac1b-8cc20adf6a7b.1690569736314',\n",
        "    '_gid': 'GA1.2.1493461039.1690569738',\n",
        "    '_sp_ses.8ca5': '*',\n",
        "    '_gcl_au': '1.1.506226889.1690569741',\n",
        "    '_pbjs_userid_consent_data': '3524755945110770',\n",
        "    '_pubcid': '40d9ad37-3208-404a-a2a2-c4053e4e95ed',\n",
        "    '_fbp': 'fb.1.1690569742297.354107822',\n",
        "    'pbjs-unifiedid': '%7B%22TDID_LOOKUP%22%3A%22FALSE%22%2C%22TDID_CREATED_AT%22%3A%222023-07-28T18%3A42%3A28%22%7D',\n",
        "    'AMP_TOKEN': '%24NOT_FOUND',\n",
        "    'sp-nuid': 'e8ff4d63-2b68-4481-8e1f-4edbd958cddb',\n",
        "    '__gads': 'ID=fdc098efff5b1ae0:T=1690569960:RT=1690569960:S=ALNI_Mb7Qc8tWZVf79Y5Ws39ZHbADfe7GQ',\n",
        "    '_gat': '1',\n",
        "    '_uetsid': '7ae5de602d7611eebe2857bb275442fb',\n",
        "    '_uetvid': '7ae618d02d7611eeb8de593cae618740',\n",
        "    'cto_bundle': 'kCIEL19SMUlqaTJoTkFuVUllYkxXa04xWG1YR2Z6YlIlMkZNSUx2bnZVcmMyZnh2cmNuOTk5NVZNWU95QlFXRFFMT2FLNHU1RnZBRW0xUXRwdmtNd3FhOVVNZkRkYjBhWnZ2ZlJmVXNCZFJ4ZDhidThTQTBZTnE4Z1dkSWxVJTJCWWE2U0FuclBqJTJCQnVSNCUyQjRYNk56cXRyYWU3ZnlVQSUzRCUzRA',\n",
        "    '_ga_KKZ1EQJKEV': 'GS1.1.1690569741.1.1.1690570165.0.0.0',\n",
        "    '_ga': 'GA1.2.847650736.1690569738',\n",
        "    '_sp_id.8ca5': 'e00c4671-0325-4c54-ac52-afa0c8052a2f.1690569740.1.1690570168.1690569740.da7170d6-6f28-40ca-9b6a-43d44b5a673a',\n",
        "}\n",
        "\n",
        "headers = {\n",
        "    'authority': 'www.autolist.com',\n",
        "    'accept': '*/*',\n",
        "    'accept-language': 'en-GB,en-US;q=0.9,en;q=0.8',\n",
        "    # 'cookie': 'ec=eyJlZGdlVXNlckFnZW50IjoiTW96aWxsYS81LjAgKFdpbmRvd3MgTlQgMTAuMDsgV2luNjQ7IHg2NCkgQXBwbGVXZWJLaXQvNTM3LjM2IChLSFRNTCwgbGlrZSBHZWNrbykgQ2hyb21lLzExNC4wLjAuMCBTYWZhcmkvNTM3LjM2In0=; client_guid_timestamp=a39828c2-68fc-492e-ac1b-8cc20adf6a7b.1690569736314; _gid=GA1.2.1493461039.1690569738; _sp_ses.8ca5=*; _gcl_au=1.1.506226889.1690569741; _pbjs_userid_consent_data=3524755945110770; _pubcid=40d9ad37-3208-404a-a2a2-c4053e4e95ed; _fbp=fb.1.1690569742297.354107822; pbjs-unifiedid=%7B%22TDID_LOOKUP%22%3A%22FALSE%22%2C%22TDID_CREATED_AT%22%3A%222023-07-28T18%3A42%3A28%22%7D; AMP_TOKEN=%24NOT_FOUND; sp-nuid=e8ff4d63-2b68-4481-8e1f-4edbd958cddb; __gads=ID=fdc098efff5b1ae0:T=1690569960:RT=1690569960:S=ALNI_Mb7Qc8tWZVf79Y5Ws39ZHbADfe7GQ; _gat=1; _uetsid=7ae5de602d7611eebe2857bb275442fb; _uetvid=7ae618d02d7611eeb8de593cae618740; cto_bundle=kCIEL19SMUlqaTJoTkFuVUllYkxXa04xWG1YR2Z6YlIlMkZNSUx2bnZVcmMyZnh2cmNuOTk5NVZNWU95QlFXRFFMT2FLNHU1RnZBRW0xUXRwdmtNd3FhOVVNZkRkYjBhWnZ2ZlJmVXNCZFJ4ZDhidThTQTBZTnE4Z1dkSWxVJTJCWWE2U0FuclBqJTJCQnVSNCUyQjRYNk56cXRyYWU3ZnlVQSUzRCUzRA; _ga_KKZ1EQJKEV=GS1.1.1690569741.1.1.1690570165.0.0.0; _ga=GA1.2.847650736.1690569738; _sp_id.8ca5=e00c4671-0325-4c54-ac52-afa0c8052a2f.1690569740.1.1690570168.1690569740.da7170d6-6f28-40ca-9b6a-43d44b5a673a',\n",
        "    'referer': 'https://www.autolist.com/toyota-corolla',\n",
        "    'sec-ch-ua': '\"Not.A/Brand\";v=\"8\", \"Chromium\";v=\"114\", \"Google Chrome\";v=\"114\"',\n",
        "    'sec-ch-ua-mobile': '?0',\n",
        "    'sec-ch-ua-platform': '\"Windows\"',\n",
        "    'sec-fetch-dest': 'empty',\n",
        "    'sec-fetch-mode': 'cors',\n",
        "    'sec-fetch-site': 'same-origin',\n",
        "    'user-agent': 'Mozilla/5.0 (Windows NT 10.0; Win64; x64) AppleWebKit/537.36 (KHTML, like Gecko) Chrome/114.0.0.0 Safari/537.36',\n",
        "    'x-autolist-session-guid': '3cb4e117-bf26-4030-b23a-417345e21640',\n",
        "    'x-requested-with': 'XMLHttpRequest',\n",
        "}\n",
        "\n",
        "params = {\n",
        "    'make': 'Toyota',\n",
        "    'model': 'Corolla',\n",
        "    'radius': '50',\n",
        "    'page': '1',\n",
        "    'sort_new_cars_last': 'true',\n",
        "}\n",
        "\n",
        "response = requests.get('https://www.autolist.com/api/cwv/seo/listings', params=params, cookies=cookies, headers=headers)"
      ]
    },
    {
      "cell_type": "code",
      "source": [
        "import requests\n",
        "import pandas as pd"
      ],
      "metadata": {
        "id": "Lq1tRIT0fgBn"
      },
      "execution_count": null,
      "outputs": []
    },
    {
      "cell_type": "code",
      "source": [
        "response"
      ],
      "metadata": {
        "colab": {
          "base_uri": "https://localhost:8080/"
        },
        "id": "VfJ0nvgV12gL",
        "outputId": "dc97f788-e099-4992-c48c-50c60b058262"
      },
      "execution_count": null,
      "outputs": [
        {
          "output_type": "execute_result",
          "data": {
            "text/plain": [
              "<Response [200]>"
            ]
          },
          "metadata": {},
          "execution_count": 9
        }
      ]
    },
    {
      "cell_type": "code",
      "source": [
        "len(response.json())"
      ],
      "metadata": {
        "colab": {
          "base_uri": "https://localhost:8080/"
        },
        "id": "a1XfX5e914e5",
        "outputId": "6d1a3420-7092-48fe-805c-04cc877efec6"
      },
      "execution_count": null,
      "outputs": [
        {
          "output_type": "execute_result",
          "data": {
            "text/plain": [
              "6"
            ]
          },
          "metadata": {},
          "execution_count": 16
        }
      ]
    },
    {
      "cell_type": "code",
      "source": [
        "response.json().keys()"
      ],
      "metadata": {
        "colab": {
          "base_uri": "https://localhost:8080/"
        },
        "id": "8QdMMiXl2QSU",
        "outputId": "b226e8a0-9b0c-48c5-ded2-08ae2208a2fe"
      },
      "execution_count": null,
      "outputs": [
        {
          "output_type": "execute_result",
          "data": {
            "text/plain": [
              "dict_keys(['total_results_count', 'make_model_name', 'trims', 'ad_info', 'search_results', 'html'])"
            ]
          },
          "metadata": {},
          "execution_count": 17
        }
      ]
    },
    {
      "cell_type": "code",
      "source": [
        "car_info = response.json()['search_results']"
      ],
      "metadata": {
        "id": "J7U5wJV-70AH"
      },
      "execution_count": null,
      "outputs": []
    },
    {
      "cell_type": "code",
      "source": [
        "car_info"
      ],
      "metadata": {
        "id": "lj5jYP3X8Qfq"
      },
      "execution_count": null,
      "outputs": []
    },
    {
      "cell_type": "code",
      "source": [
        "make = []\n",
        "year = []\n",
        "model = []\n",
        "id = []\n",
        "price = []\n",
        "mileage = []\n",
        "dealer_name = []\n",
        "for result in car_info:\n",
        "  make.append(result['make'])\n",
        "  year.append(result['year'])\n",
        "  model.append(result['model'])\n",
        "  id.append(result['id'])\n",
        "  price.append(result['price'])\n",
        "  mileage.append(result['mileage'])\n",
        "  dealer_name.append(result['dealer_name'])"
      ],
      "metadata": {
        "id": "sjc1dB8n2X2i"
      },
      "execution_count": null,
      "outputs": []
    },
    {
      "cell_type": "code",
      "source": [
        "make"
      ],
      "metadata": {
        "id": "_Ut3Cd2F2q-D"
      },
      "execution_count": null,
      "outputs": []
    },
    {
      "cell_type": "code",
      "source": [
        "car_ad = pd.DataFrame({'Model': model, 'Mileage':mileage, 'Year':year, 'Dealer Name': dealer_name, 'Price': price, 'ID':id, 'Maker':make})"
      ],
      "metadata": {
        "id": "3F_2D32VsYLq"
      },
      "execution_count": null,
      "outputs": []
    },
    {
      "cell_type": "code",
      "source": [
        "car_ad"
      ],
      "metadata": {
        "id": "K_BlB85Hvh-X"
      },
      "execution_count": null,
      "outputs": []
    },
    {
      "cell_type": "code",
      "source": [
        "headers = {\n",
        "    'authority': 'www.autolist.com',\n",
        "    'sec-ch-ua': '^\\\\^Chromium^\\\\^;v=^\\\\^94^\\\\^, ^\\\\^Google',\n",
        "    'accept': '*/*',\n",
        "    'x-requested-with': 'XMLHttpRequest',\n",
        "    'sec-ch-ua-mobile': '?0',\n",
        "    'x-autolist-session-guid': 'c9fb9ffb-2c06-4468-a3d0-c26290c6994f',\n",
        "    'user-agent': 'Mozilla/5.0 (Windows NT 10.0; Win64; x64) AppleWebKit/537.36 (KHTML, like Gecko) Chrome/94.0.4590.0 Safari/537.36',\n",
        "    'sec-ch-ua-platform': '^\\\\^Windows^\\\\^',\n",
        "    'sec-fetch-site': 'same-origin',\n",
        "    'sec-fetch-mode': 'cors',\n",
        "    'sec-fetch-dest': 'empty',\n",
        "    'referer': 'https://www.autolist.com/listings',\n",
        "    'accept-language': 'en-US,en;q=0.9',\n",
        "    'cookie': 'ec=eyJlZGdlVXNlckFnZW50IjoiTW96aWxsYS81LjAgKFdpbmRvd3MgTlQgMTAuMDsgV2luNjQ7IHg2NCkgQXBwbGVXZWJLaXQvNTM3LjM2IChLSFRNTCwgbGlrZSBHZWNrbykgQ2hyb21lLzk0LjAuNDU5MC4wIFNhZmFyaS81MzcuMzYifQ==; client_guid_timestamp=1602952f-d1bf-4936-82e3-cbdedfa11d2d.1627825394925; scavenger-a493=i2edJn8U8quG2BtrlZCXcua4KB62fcJRrAhaI/t9eYZNJczdHQYj3P0Y4s6myhEl4IbJl8vp9L0oN+SXDh2fFcTvJ/vA/hPyRJ0ohE6LnQGIee5ACCL3nGqW5xFg3QnijfTypiJhVgTfPjk3c81AtkxzR54e+BHqQL0DI6/oWNd7iIkgvHaWjuilZuITytvFV0IAUJ0bX041NuAIFpx8K90bzfPLeAKgkwc0lpwB3cLwm8NcNKMD3xELdjI6leANl5jZJ9KzZ3K+5J7nCpxnAynFJJt2e95bby70BTVZ0qdWtSWGgwFxEdjmesrF42H7EgAjt4LMIKDuRVtbhVwu/q/wUhPoUZvZb6F+CbFpxMXuZTpd27JmWUrboqGTfyS3Nr7gV1kl6hr+8w0aOlmo8NlrdmNRb0u51Ex4zu4JTymiAUsWvS9JhNr/uvk4GVvM3kafDQeKq7v+xHkB/lCvPkqLEifYP7VVan6h5ZmvaQTgULjs0N5JhUd76Pt6c/tY5R0v8R67gjgbvW8n/4Gqzw==; _sp_ses.8ca5=*; _gid=GA1.2.96049973.1627825395; _fbp=fb.1.1627825395573.409117512; __gads=ID=c459f8bf6d0987dd:T=1627825394:S=ALNI_MaW1epD3HNJsvJQTCnPWSJCcOdE_w; AMP_TOKEN=^%^24NOT_FOUND; sp-nuid=e4461948-a1a2-45a1-88f8-45c2889d9576; _gcl_au=1.1.519751617.1627825557; _ga_152345333=GS1.1.1627825395.1.1.1627828426.0; _ga=GA1.2.2118379867.1627825395; cto_bundle=WV1etl8zMUc1cGt6WnZNSEZMYWhwNnJjUXpTYzQxVzZ6QzM5VE1tWXZFcjQ3ZWhrNTlETG1CemlUdmNFYUtIbXdCQTNFelJmY3h6QXA0SlVIZml0WVg2OWQxZlBPMmRqbExXNU9XZTM0V0VaR09tbHBvJTJGdERCb21zZUVKJTJCTG1vVzlDV0w2VjA0bDklMkJnRjdrMmZPUExmJTJGY0l6USUzRCUzRA; _gat=1; _sp_id.8ca5=d3d3f60d-371c-4289-92fe-1c6f66b4979f.1627825395.1.1627828912.1627825395.8bc1e545-8ca1-448e-b1ba-ec8d2c359ada',\n",
        "    'if-none-match': 'W/^\\\\^c6f72fa4ef059e03ea0309ebd57c197d^\\\\^',\n",
        "}\n",
        "\n",
        "\n",
        "model = []\n",
        "mileage = []\n",
        "year = []\n",
        "dealer_name = []\n",
        "price = []\n",
        "id = []\n",
        "make = []\n",
        "for i in range(1,6):\n",
        "\n",
        "    params = (\n",
        "        ('make', 'Tesla'),\n",
        "        ('location', 'San^%^20Francisco,^%^20CA'),\n",
        "        ('latitude', '37.7749295'),\n",
        "        ('longitude', '-122.4194155'),\n",
        "        ('radius', '50'),\n",
        "        ('page', str(i)),\n",
        "    )\n",
        "\n",
        "    # response variable for the get request\n",
        "    response = requests.get('https://www.autolist.com/api/cwv/seo/listings', headers=headers, params=params)\n",
        "\n",
        "    # json object\n",
        "    results_json = response.json()\n",
        "\n",
        "    # result items (20 items for each page)\n",
        "    result_items = results_json['search_results']\n",
        "\n",
        "    for result in result_items:\n",
        "\n",
        "        # model\n",
        "        model.append(result['model'])\n",
        "\n",
        "        # mileage\n",
        "        mileage.append(result['mileage'])\n",
        "\n",
        "        # year\n",
        "        year.append(result['year'])\n",
        "\n",
        "        # dealer name\n",
        "        dealer_name.append(result['dealer_name'])\n",
        "\n",
        "        # price\n",
        "        price.append(result['price'])\n",
        "        id.append(result['id'])\n",
        "        make.append(result['make'])\n"
      ],
      "metadata": {
        "id": "YyEiGtXIvy7V"
      },
      "execution_count": null,
      "outputs": []
    },
    {
      "cell_type": "code",
      "source": [
        "more_ads = pd.DataFrame({'Model': model, 'Mileage':mileage, 'Year':year, 'Dealer Name': dealer_name, 'Price': price, 'ID':id, 'Maker':make})"
      ],
      "metadata": {
        "id": "e5FOS7FCwiT1"
      },
      "execution_count": null,
      "outputs": []
    },
    {
      "cell_type": "code",
      "source": [
        "more_ads"
      ],
      "metadata": {
        "colab": {
          "base_uri": "https://localhost:8080/",
          "height": 424
        },
        "id": "VGhkM2giwuhb",
        "outputId": "d32b0cdb-fedf-421c-bb24-325df322b185"
      },
      "execution_count": null,
      "outputs": [
        {
          "output_type": "execute_result",
          "data": {
            "text/plain": [
              "      Model       Mileage  Year  \\\n",
              "0   Model 3  46,516 Miles  2018   \n",
              "1   Model 3  22,500 Miles  2018   \n",
              "2   Model 3  14,211 Miles  2018   \n",
              "3   Model 3  14,550 Miles  2018   \n",
              "4   Model S  37,269 Miles  2021   \n",
              "..      ...           ...   ...   \n",
              "95  Model 3  10,726 Miles  2023   \n",
              "96  Model Y  51,902 Miles  2020   \n",
              "97  Model 3  35,076 Miles  2019   \n",
              "98  Model 3  36,411 Miles  2019   \n",
              "99  Model X  49,536 Miles  2020   \n",
              "\n",
              "                                          Dealer Name    Price         ID  \\\n",
              "0                        CarMax Serramonte - Now Open  $35,998  267392309   \n",
              "1                            Putnam Ford Of San Mateo  $33,399  269382628   \n",
              "2   CarMax Fairfield - Now Offering Curbside Picku...  $39,998  267445949   \n",
              "3                                        Ever Cars Co  $35,900  269177617   \n",
              "4                                Stevens Creek Nissan  $76,888  269418883   \n",
              "..                                                ...      ...        ...   \n",
              "95                       CarMax Santa Rosa - Now Open  $39,998  266733021   \n",
              "96                       CarMax Santa Rosa - Now Open  $43,998  265640547   \n",
              "97                          CarMax Fremont - Now Open  $33,998  269979586   \n",
              "98                          CarMax Fremont - Now Open  $32,998  269681712   \n",
              "99                       CarMax Pleasanton - Now Open  $74,998  267993018   \n",
              "\n",
              "    Maker  \n",
              "0   Tesla  \n",
              "1   Tesla  \n",
              "2   Tesla  \n",
              "3   Tesla  \n",
              "4   Tesla  \n",
              "..    ...  \n",
              "95  Tesla  \n",
              "96  Tesla  \n",
              "97  Tesla  \n",
              "98  Tesla  \n",
              "99  Tesla  \n",
              "\n",
              "[100 rows x 7 columns]"
            ],
            "text/html": [
              "\n",
              "\n",
              "  <div id=\"df-c62573a3-1dad-4cb5-945c-35f7324c8107\">\n",
              "    <div class=\"colab-df-container\">\n",
              "      <div>\n",
              "<style scoped>\n",
              "    .dataframe tbody tr th:only-of-type {\n",
              "        vertical-align: middle;\n",
              "    }\n",
              "\n",
              "    .dataframe tbody tr th {\n",
              "        vertical-align: top;\n",
              "    }\n",
              "\n",
              "    .dataframe thead th {\n",
              "        text-align: right;\n",
              "    }\n",
              "</style>\n",
              "<table border=\"1\" class=\"dataframe\">\n",
              "  <thead>\n",
              "    <tr style=\"text-align: right;\">\n",
              "      <th></th>\n",
              "      <th>Model</th>\n",
              "      <th>Mileage</th>\n",
              "      <th>Year</th>\n",
              "      <th>Dealer Name</th>\n",
              "      <th>Price</th>\n",
              "      <th>ID</th>\n",
              "      <th>Maker</th>\n",
              "    </tr>\n",
              "  </thead>\n",
              "  <tbody>\n",
              "    <tr>\n",
              "      <th>0</th>\n",
              "      <td>Model 3</td>\n",
              "      <td>46,516 Miles</td>\n",
              "      <td>2018</td>\n",
              "      <td>CarMax Serramonte - Now Open</td>\n",
              "      <td>$35,998</td>\n",
              "      <td>267392309</td>\n",
              "      <td>Tesla</td>\n",
              "    </tr>\n",
              "    <tr>\n",
              "      <th>1</th>\n",
              "      <td>Model 3</td>\n",
              "      <td>22,500 Miles</td>\n",
              "      <td>2018</td>\n",
              "      <td>Putnam Ford Of San Mateo</td>\n",
              "      <td>$33,399</td>\n",
              "      <td>269382628</td>\n",
              "      <td>Tesla</td>\n",
              "    </tr>\n",
              "    <tr>\n",
              "      <th>2</th>\n",
              "      <td>Model 3</td>\n",
              "      <td>14,211 Miles</td>\n",
              "      <td>2018</td>\n",
              "      <td>CarMax Fairfield - Now Offering Curbside Picku...</td>\n",
              "      <td>$39,998</td>\n",
              "      <td>267445949</td>\n",
              "      <td>Tesla</td>\n",
              "    </tr>\n",
              "    <tr>\n",
              "      <th>3</th>\n",
              "      <td>Model 3</td>\n",
              "      <td>14,550 Miles</td>\n",
              "      <td>2018</td>\n",
              "      <td>Ever Cars Co</td>\n",
              "      <td>$35,900</td>\n",
              "      <td>269177617</td>\n",
              "      <td>Tesla</td>\n",
              "    </tr>\n",
              "    <tr>\n",
              "      <th>4</th>\n",
              "      <td>Model S</td>\n",
              "      <td>37,269 Miles</td>\n",
              "      <td>2021</td>\n",
              "      <td>Stevens Creek Nissan</td>\n",
              "      <td>$76,888</td>\n",
              "      <td>269418883</td>\n",
              "      <td>Tesla</td>\n",
              "    </tr>\n",
              "    <tr>\n",
              "      <th>...</th>\n",
              "      <td>...</td>\n",
              "      <td>...</td>\n",
              "      <td>...</td>\n",
              "      <td>...</td>\n",
              "      <td>...</td>\n",
              "      <td>...</td>\n",
              "      <td>...</td>\n",
              "    </tr>\n",
              "    <tr>\n",
              "      <th>95</th>\n",
              "      <td>Model 3</td>\n",
              "      <td>10,726 Miles</td>\n",
              "      <td>2023</td>\n",
              "      <td>CarMax Santa Rosa - Now Open</td>\n",
              "      <td>$39,998</td>\n",
              "      <td>266733021</td>\n",
              "      <td>Tesla</td>\n",
              "    </tr>\n",
              "    <tr>\n",
              "      <th>96</th>\n",
              "      <td>Model Y</td>\n",
              "      <td>51,902 Miles</td>\n",
              "      <td>2020</td>\n",
              "      <td>CarMax Santa Rosa - Now Open</td>\n",
              "      <td>$43,998</td>\n",
              "      <td>265640547</td>\n",
              "      <td>Tesla</td>\n",
              "    </tr>\n",
              "    <tr>\n",
              "      <th>97</th>\n",
              "      <td>Model 3</td>\n",
              "      <td>35,076 Miles</td>\n",
              "      <td>2019</td>\n",
              "      <td>CarMax Fremont - Now Open</td>\n",
              "      <td>$33,998</td>\n",
              "      <td>269979586</td>\n",
              "      <td>Tesla</td>\n",
              "    </tr>\n",
              "    <tr>\n",
              "      <th>98</th>\n",
              "      <td>Model 3</td>\n",
              "      <td>36,411 Miles</td>\n",
              "      <td>2019</td>\n",
              "      <td>CarMax Fremont - Now Open</td>\n",
              "      <td>$32,998</td>\n",
              "      <td>269681712</td>\n",
              "      <td>Tesla</td>\n",
              "    </tr>\n",
              "    <tr>\n",
              "      <th>99</th>\n",
              "      <td>Model X</td>\n",
              "      <td>49,536 Miles</td>\n",
              "      <td>2020</td>\n",
              "      <td>CarMax Pleasanton - Now Open</td>\n",
              "      <td>$74,998</td>\n",
              "      <td>267993018</td>\n",
              "      <td>Tesla</td>\n",
              "    </tr>\n",
              "  </tbody>\n",
              "</table>\n",
              "<p>100 rows × 7 columns</p>\n",
              "</div>\n",
              "      <button class=\"colab-df-convert\" onclick=\"convertToInteractive('df-c62573a3-1dad-4cb5-945c-35f7324c8107')\"\n",
              "              title=\"Convert this dataframe to an interactive table.\"\n",
              "              style=\"display:none;\">\n",
              "\n",
              "  <svg xmlns=\"http://www.w3.org/2000/svg\" height=\"24px\"viewBox=\"0 0 24 24\"\n",
              "       width=\"24px\">\n",
              "    <path d=\"M0 0h24v24H0V0z\" fill=\"none\"/>\n",
              "    <path d=\"M18.56 5.44l.94 2.06.94-2.06 2.06-.94-2.06-.94-.94-2.06-.94 2.06-2.06.94zm-11 1L8.5 8.5l.94-2.06 2.06-.94-2.06-.94L8.5 2.5l-.94 2.06-2.06.94zm10 10l.94 2.06.94-2.06 2.06-.94-2.06-.94-.94-2.06-.94 2.06-2.06.94z\"/><path d=\"M17.41 7.96l-1.37-1.37c-.4-.4-.92-.59-1.43-.59-.52 0-1.04.2-1.43.59L10.3 9.45l-7.72 7.72c-.78.78-.78 2.05 0 2.83L4 21.41c.39.39.9.59 1.41.59.51 0 1.02-.2 1.41-.59l7.78-7.78 2.81-2.81c.8-.78.8-2.07 0-2.86zM5.41 20L4 18.59l7.72-7.72 1.47 1.35L5.41 20z\"/>\n",
              "  </svg>\n",
              "      </button>\n",
              "\n",
              "\n",
              "\n",
              "    <div id=\"df-4bcb815c-ed47-4205-9805-21cca98b8c61\">\n",
              "      <button class=\"colab-df-quickchart\" onclick=\"quickchart('df-4bcb815c-ed47-4205-9805-21cca98b8c61')\"\n",
              "              title=\"Suggest charts.\"\n",
              "              style=\"display:none;\">\n",
              "\n",
              "<svg xmlns=\"http://www.w3.org/2000/svg\" height=\"24px\"viewBox=\"0 0 24 24\"\n",
              "     width=\"24px\">\n",
              "    <g>\n",
              "        <path d=\"M19 3H5c-1.1 0-2 .9-2 2v14c0 1.1.9 2 2 2h14c1.1 0 2-.9 2-2V5c0-1.1-.9-2-2-2zM9 17H7v-7h2v7zm4 0h-2V7h2v10zm4 0h-2v-4h2v4z\"/>\n",
              "    </g>\n",
              "</svg>\n",
              "      </button>\n",
              "    </div>\n",
              "\n",
              "<style>\n",
              "  .colab-df-quickchart {\n",
              "    background-color: #E8F0FE;\n",
              "    border: none;\n",
              "    border-radius: 50%;\n",
              "    cursor: pointer;\n",
              "    display: none;\n",
              "    fill: #1967D2;\n",
              "    height: 32px;\n",
              "    padding: 0 0 0 0;\n",
              "    width: 32px;\n",
              "  }\n",
              "\n",
              "  .colab-df-quickchart:hover {\n",
              "    background-color: #E2EBFA;\n",
              "    box-shadow: 0px 1px 2px rgba(60, 64, 67, 0.3), 0px 1px 3px 1px rgba(60, 64, 67, 0.15);\n",
              "    fill: #174EA6;\n",
              "  }\n",
              "\n",
              "  [theme=dark] .colab-df-quickchart {\n",
              "    background-color: #3B4455;\n",
              "    fill: #D2E3FC;\n",
              "  }\n",
              "\n",
              "  [theme=dark] .colab-df-quickchart:hover {\n",
              "    background-color: #434B5C;\n",
              "    box-shadow: 0px 1px 3px 1px rgba(0, 0, 0, 0.15);\n",
              "    filter: drop-shadow(0px 1px 2px rgba(0, 0, 0, 0.3));\n",
              "    fill: #FFFFFF;\n",
              "  }\n",
              "</style>\n",
              "\n",
              "    <script>\n",
              "      async function quickchart(key) {\n",
              "        const containerElement = document.querySelector('#' + key);\n",
              "        const charts = await google.colab.kernel.invokeFunction(\n",
              "            'suggestCharts', [key], {});\n",
              "      }\n",
              "    </script>\n",
              "\n",
              "      <script>\n",
              "\n",
              "function displayQuickchartButton(domScope) {\n",
              "  let quickchartButtonEl =\n",
              "    domScope.querySelector('#df-4bcb815c-ed47-4205-9805-21cca98b8c61 button.colab-df-quickchart');\n",
              "  quickchartButtonEl.style.display =\n",
              "    google.colab.kernel.accessAllowed ? 'block' : 'none';\n",
              "}\n",
              "\n",
              "        displayQuickchartButton(document);\n",
              "      </script>\n",
              "      <style>\n",
              "    .colab-df-container {\n",
              "      display:flex;\n",
              "      flex-wrap:wrap;\n",
              "      gap: 12px;\n",
              "    }\n",
              "\n",
              "    .colab-df-convert {\n",
              "      background-color: #E8F0FE;\n",
              "      border: none;\n",
              "      border-radius: 50%;\n",
              "      cursor: pointer;\n",
              "      display: none;\n",
              "      fill: #1967D2;\n",
              "      height: 32px;\n",
              "      padding: 0 0 0 0;\n",
              "      width: 32px;\n",
              "    }\n",
              "\n",
              "    .colab-df-convert:hover {\n",
              "      background-color: #E2EBFA;\n",
              "      box-shadow: 0px 1px 2px rgba(60, 64, 67, 0.3), 0px 1px 3px 1px rgba(60, 64, 67, 0.15);\n",
              "      fill: #174EA6;\n",
              "    }\n",
              "\n",
              "    [theme=dark] .colab-df-convert {\n",
              "      background-color: #3B4455;\n",
              "      fill: #D2E3FC;\n",
              "    }\n",
              "\n",
              "    [theme=dark] .colab-df-convert:hover {\n",
              "      background-color: #434B5C;\n",
              "      box-shadow: 0px 1px 3px 1px rgba(0, 0, 0, 0.15);\n",
              "      filter: drop-shadow(0px 1px 2px rgba(0, 0, 0, 0.3));\n",
              "      fill: #FFFFFF;\n",
              "    }\n",
              "  </style>\n",
              "\n",
              "      <script>\n",
              "        const buttonEl =\n",
              "          document.querySelector('#df-c62573a3-1dad-4cb5-945c-35f7324c8107 button.colab-df-convert');\n",
              "        buttonEl.style.display =\n",
              "          google.colab.kernel.accessAllowed ? 'block' : 'none';\n",
              "\n",
              "        async function convertToInteractive(key) {\n",
              "          const element = document.querySelector('#df-c62573a3-1dad-4cb5-945c-35f7324c8107');\n",
              "          const dataTable =\n",
              "            await google.colab.kernel.invokeFunction('convertToInteractive',\n",
              "                                                     [key], {});\n",
              "          if (!dataTable) return;\n",
              "\n",
              "          const docLinkHtml = 'Like what you see? Visit the ' +\n",
              "            '<a target=\"_blank\" href=https://colab.research.google.com/notebooks/data_table.ipynb>data table notebook</a>'\n",
              "            + ' to learn more about interactive tables.';\n",
              "          element.innerHTML = '';\n",
              "          dataTable['output_type'] = 'display_data';\n",
              "          await google.colab.output.renderOutput(dataTable, element);\n",
              "          const docLink = document.createElement('div');\n",
              "          docLink.innerHTML = docLinkHtml;\n",
              "          element.appendChild(docLink);\n",
              "        }\n",
              "      </script>\n",
              "    </div>\n",
              "  </div>\n"
            ]
          },
          "metadata": {},
          "execution_count": 20
        }
      ]
    },
    {
      "cell_type": "code",
      "source": [
        "more_ads.to_excel('more_ads.xlsx', index=False)"
      ],
      "metadata": {
        "id": "4YJ7KN2Lwub1"
      },
      "execution_count": null,
      "outputs": []
    }
  ]
}